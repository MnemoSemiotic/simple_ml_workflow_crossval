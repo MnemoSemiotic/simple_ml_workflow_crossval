{
 "cells": [
  {
   "cell_type": "code",
   "execution_count": 4,
   "metadata": {},
   "outputs": [],
   "source": [
    "import warnings\n",
    "warnings.filterwarnings('ignore')\n",
    "\n",
    "from os import listdir, getcwd"
   ]
  },
  {
   "cell_type": "markdown",
   "metadata": {},
   "source": [
    "## reading in"
   ]
  },
  {
   "cell_type": "code",
   "execution_count": 5,
   "metadata": {},
   "outputs": [
    {
     "data": {
      "text/plain": [
       "['.DS_Store',\n",
       " 'README.md',\n",
       " '.gitignore',\n",
       " 'simple_crossval.ipynb',\n",
       " '.ipynb_checkpoints',\n",
       " '.git',\n",
       " 'data']"
      ]
     },
     "execution_count": 5,
     "metadata": {},
     "output_type": "execute_result"
    }
   ],
   "source": [
    "listdir()"
   ]
  },
  {
   "cell_type": "code",
   "execution_count": 6,
   "metadata": {},
   "outputs": [
    {
     "data": {
      "text/plain": [
       "['iris.data.txt',\n",
       " 'cats_00001.jpg',\n",
       " '.DS_Store',\n",
       " 'cats_00002.jpg',\n",
       " 'cats_00003.jpg',\n",
       " 'dogs_00005.jpg',\n",
       " 'dogs_00004.jpg',\n",
       " 'dogs_00006.jpg']"
      ]
     },
     "execution_count": 6,
     "metadata": {},
     "output_type": "execute_result"
    }
   ],
   "source": [
    "listdir('data')"
   ]
  },
  {
   "cell_type": "markdown",
   "metadata": {},
   "source": [
    "<br><br>"
   ]
  },
  {
   "cell_type": "markdown",
   "metadata": {},
   "source": [
    "# Basic Workflow for ML\n",
    "> ## 0. \"I want a model that gets this level of performance on this data\": Definition of Done\n",
    "\n",
    "> ## 1. import/clean/reshape data\n",
    "> * this is generally where you spend the most time\n",
    "\n",
    "> ## 2. train/test split\n",
    "> * creating a training set, a validation set and a test set\n",
    "> * (today we're creating just the training and test\n",
    "\n",
    "```\n",
    "from sklearn.model_selection import train_test_split\n",
    "\n",
    "X_train, X_test, y_train, y_test = train_test_split(X, y, test_size=0.20, random_state=23)\n",
    "\n",
    "X_val, X_test, y_val, y_test = train_test_split(X_test, y_test, test_size=0.50, random_state=23)\n",
    "```\n",
    "\n",
    "> ## 3. search for optimal model and optimal hyperparameters\n",
    "> * we're using KNN\n",
    "> * trying to minimize loss or maximize some classification metric\n",
    ">     * looking for min from mse, mae, or a max from similarity metric like cosine similarity\n",
    ">     * best num/combination of features (columns)\n",
    "> * **general cross val**\n",
    "\n",
    "```\n",
    "for each given model\n",
    "    for every combination of hyperparamters\n",
    "        fit model with X_train/y_train\n",
    "        y_pred <- predictions on X_val\n",
    "        record the comparison of y_pred given combination\n",
    "            y_pred_train <- cost(model.predict(X_train), y_train)\n",
    "            y_pred_val <- cost(model.predict(X_val), y_val)\n",
    "```\n",
    "\n",
    "> * optimal combination will have the lowest cost for `y_pred_val` or highest classification or similarity metric\n",
    "\n",
    "\n",
    "> ## 4. model fit\n",
    "> * fit model using training data `X_train` and `y_train`\n",
    "        * can add back in `X_val` and `y_val`\n",
    "        \n",
    "> ## 5. model predict\n",
    "> * `y_pred_train` <- prediction on `X_train`\n",
    "> * `y_pred_test` <- preditions on `X_test`\n",
    "\n",
    "> ## 6. report metrics\n",
    "> * metrics:\n",
    "    * cost(model.predict(X_train), y_train)\n",
    "    * cost(model.predict(X_test), y_test)"
   ]
  },
  {
   "cell_type": "code",
   "execution_count": null,
   "metadata": {},
   "outputs": [],
   "source": []
  },
  {
   "cell_type": "code",
   "execution_count": null,
   "metadata": {},
   "outputs": [],
   "source": []
  }
 ],
 "metadata": {
  "kernelspec": {
   "display_name": "Python 3",
   "language": "python",
   "name": "python3"
  },
  "language_info": {
   "codemirror_mode": {
    "name": "ipython",
    "version": 3
   },
   "file_extension": ".py",
   "mimetype": "text/x-python",
   "name": "python",
   "nbconvert_exporter": "python",
   "pygments_lexer": "ipython3",
   "version": "3.6.8"
  }
 },
 "nbformat": 4,
 "nbformat_minor": 2
}
